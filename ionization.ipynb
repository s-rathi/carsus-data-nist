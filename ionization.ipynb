{
 "cells": [
  {
   "cell_type": "code",
   "execution_count": 1,
   "id": "01b2e02b",
   "metadata": {},
   "outputs": [],
   "source": [
    "import requests\n",
    "from bs4 import BeautifulSoup"
   ]
  },
  {
   "cell_type": "code",
   "execution_count": 2,
   "id": "438e227a",
   "metadata": {},
   "outputs": [],
   "source": [
    "IONIZATION_ENERGIES_URL = 'https://physics.nist.gov/cgi-bin/ASD/ie.pl'"
   ]
  },
  {
   "cell_type": "code",
   "execution_count": 3,
   "id": "ac59e40f",
   "metadata": {},
   "outputs": [],
   "source": [
    "def download_ionization_energies(\n",
    "        spectra='h-uuh',\n",
    "        e_out=0,\n",
    "        e_unit=1,\n",
    "        format_=1,\n",
    "        at_num_out=True,\n",
    "        sp_name_out=False,\n",
    "        ion_charge_out=True,\n",
    "        el_name_out=True,\n",
    "        seq_out=False,\n",
    "        shells_out=True,\n",
    "        conf_out=False,\n",
    "        level_out=True,\n",
    "        ion_conf_out=False,\n",
    "        unc_out=True,\n",
    "        biblio=False):\n",
    "    \"\"\"\n",
    "        Downloader function for the Ionization Energies Data from the NIST Atomic Spectra Database\n",
    "        Parameters\n",
    "        ----------\n",
    "        spectra: str\n",
    "            (default value = 'h-uuh')\n",
    "        Returns\n",
    "        -------\n",
    "        str\n",
    "            Preformatted text data\n",
    "        \"\"\"\n",
    "    data = {'spectra': spectra, 'units': e_unit,\n",
    "            'format': format_, 'at_num_out': at_num_out, 'sp_name_out': sp_name_out,\n",
    "            'ion_charge_out': ion_charge_out, 'el_name_out': el_name_out,\n",
    "            'seq_out': seq_out, 'shells_out': shells_out, 'conf_out': conf_out,\n",
    "            'level_out': level_out, 'ion_conf_out': ion_conf_out, 'e_out': e_out,\n",
    "            'unc_out': unc_out, 'biblio': biblio}\n",
    "\n",
    "    data = {k: v for k, v in data.items() if v is not False}\n",
    "    data = {k:\"on\" if v is True else v for k, v in data.items()}\n",
    "\n",
    "   \n",
    "    r = requests.post(url=IONIZATION_ENERGIES_URL, data=data)\n",
    "    return r.text"
   ]
  },
  {
   "cell_type": "code",
   "execution_count": 4,
   "id": "916fa605",
   "metadata": {},
   "outputs": [],
   "source": [
    "html_content = download_ionization_energies()\n",
    "\n",
    "soup = BeautifulSoup(html_content, 'html5lib')\n",
    "\n",
    "pre_element = soup.find('pre')\n",
    "pre_text_data = pre_element.get_text()"
   ]
  },
  {
   "cell_type": "code",
   "execution_count": null,
   "id": "d4c15eac",
   "metadata": {},
   "outputs": [],
   "source": []
  }
 ],
 "metadata": {
  "kernelspec": {
   "display_name": "Python 3 (ipykernel)",
   "language": "python",
   "name": "python3"
  },
  "language_info": {
   "codemirror_mode": {
    "name": "ipython",
    "version": 3
   },
   "file_extension": ".py",
   "mimetype": "text/x-python",
   "name": "python",
   "nbconvert_exporter": "python",
   "pygments_lexer": "ipython3",
   "version": "3.8.10"
  }
 },
 "nbformat": 4,
 "nbformat_minor": 5
}
